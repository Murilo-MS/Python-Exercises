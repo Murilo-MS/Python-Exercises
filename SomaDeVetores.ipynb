{
  "nbformat": 4,
  "nbformat_minor": 0,
  "metadata": {
    "colab": {
      "name": "SomaDeVetores.ipynb",
      "provenance": [],
      "authorship_tag": "ABX9TyOXHKNd4ZymB3JbaKNAWDHx",
      "include_colab_link": true
    },
    "kernelspec": {
      "name": "python3",
      "display_name": "Python 3"
    },
    "language_info": {
      "name": "python"
    }
  },
  "cells": [
    {
      "cell_type": "markdown",
      "metadata": {
        "id": "view-in-github",
        "colab_type": "text"
      },
      "source": [
        "<a href=\"https://colab.research.google.com/github/Murilo-MS/Python-Exercises/blob/main/SomaDeVetores.ipynb\" target=\"_parent\"><img src=\"https://colab.research.google.com/assets/colab-badge.svg\" alt=\"Open In Colab\"/></a>"
      ]
    },
    {
      "cell_type": "markdown",
      "source": [
        "# Criação das listas (vetores)"
      ],
      "metadata": {
        "id": "N2c9SWSblpoa"
      }
    },
    {
      "cell_type": "code",
      "source": [
        "lista1 = []\n",
        "lista2 = []\n",
        "listaT = []\n",
        "elementos = []"
      ],
      "metadata": {
        "id": "mqdfXN4rlt8A"
      },
      "execution_count": 50,
      "outputs": []
    },
    {
      "cell_type": "markdown",
      "source": [
        "# Input dos algarismos e casas decimais"
      ],
      "metadata": {
        "id": "EQHByS2glxL1"
      }
    },
    {
      "cell_type": "code",
      "source": [
        "casas1 = int(input(\"quantos casas decimais tem o primeiro número? \"))\n",
        "\n",
        "for i in range(casas1):\n",
        "    lista1.append(0)\n",
        "\n",
        "for i in range(len(lista1)):\n",
        "    print(\"qual o algarismo da \", i + 1, \"º casa ? \")\n",
        "    j = int(input())\n",
        "    lista1.pop(i)\n",
        "    lista1.insert(i, j)\n",
        "\n",
        "casas2 = int(input(\"quantos casas decimais tem o segundo número? \"))\n",
        "\n",
        "for i in range(casas2):\n",
        "    lista2.append(0)\n",
        "\n",
        "for i in range(len(lista2)):\n",
        "    print(\"qual o algarismo da \", i + 1, \"º casa ? \")\n",
        "    j = int(input())\n",
        "    lista2.pop(i)\n",
        "    lista2.insert(i, j)\n"
      ],
      "metadata": {
        "colab": {
          "base_uri": "https://localhost:8080/"
        },
        "id": "32ygoKUBl0xp",
        "outputId": "d9648411-e2f3-43e9-da1f-47da5eb9aaad"
      },
      "execution_count": 51,
      "outputs": [
        {
          "name": "stdout",
          "output_type": "stream",
          "text": [
            "quantos casas decimais tem o primeiro número? 1\n",
            "qual o algarismo da  1 º casa ? \n",
            "9\n",
            "quantos casas decimais tem o segundo número? 1\n",
            "qual o algarismo da  1 º casa ? \n",
            "1\n"
          ]
        }
      ]
    },
    {
      "cell_type": "markdown",
      "source": [
        "# Inversão das listas para utilização da potenciação\n"
      ],
      "metadata": {
        "id": "btC3Dw9Hl2-M"
      }
    },
    {
      "cell_type": "code",
      "source": [
        "lista1r = lista1[::-1]\n",
        "lista2r = lista2[::-1]"
      ],
      "metadata": {
        "id": "5SmyH6XFl6lg"
      },
      "execution_count": 52,
      "outputs": []
    },
    {
      "cell_type": "markdown",
      "source": [
        "# Soma das listas"
      ],
      "metadata": {
        "id": "FSNM5SVZl-AE"
      }
    },
    {
      "cell_type": "code",
      "source": [
        "if (len(lista1r) > len(lista2r)):\n",
        "  listaMaior = lista1r\n",
        "else:\n",
        "  listaMaior = lista2r\n",
        "\n",
        "for i in range(len(listaMaior)+1):\n",
        "  listaT.append(0)"
      ],
      "metadata": {
        "id": "EqZLuj2il9tz"
      },
      "execution_count": 53,
      "outputs": []
    },
    {
      "cell_type": "code",
      "source": [
        "for i in range(len(listaMaior)):\n",
        "  listaT[i] = lista1r[i] + lista2r[i]\n",
        "  \n",
        "  if (listaT[i] > 10):\n",
        "    listaT[i] -= 10\n",
        "    listaT[i+1] += 1\n",
        "  else:\n",
        "    pass"
      ],
      "metadata": {
        "id": "hAGjmftknOof"
      },
      "execution_count": 54,
      "outputs": []
    },
    {
      "cell_type": "markdown",
      "source": [
        "# Transforma a lista em número"
      ],
      "metadata": {
        "id": "C05eAhHLsaRa"
      }
    },
    {
      "cell_type": "code",
      "source": [
        "for i in range(len(listaT)):\n",
        "    a = listaT[i] * 10 ** i\n",
        "    elementos.append(a)\n",
        "\n",
        "soma = sum(elementos)"
      ],
      "metadata": {
        "id": "hvStR-BMsiwM"
      },
      "execution_count": 55,
      "outputs": []
    },
    {
      "cell_type": "markdown",
      "source": [
        "# Resultado"
      ],
      "metadata": {
        "id": "qDnQb4RKmC6N"
      }
    },
    {
      "cell_type": "code",
      "source": [
        "print(\"o resultado da soma é: \", soma)"
      ],
      "metadata": {
        "colab": {
          "base_uri": "https://localhost:8080/"
        },
        "id": "qEH21O4fmHPL",
        "outputId": "ce24e486-70b6-4a40-93de-865e7a0202eb"
      },
      "execution_count": 56,
      "outputs": [
        {
          "output_type": "stream",
          "name": "stdout",
          "text": [
            "o resultado da soma é:  10\n"
          ]
        }
      ]
    }
  ]
}